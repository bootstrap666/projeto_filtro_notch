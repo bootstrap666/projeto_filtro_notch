{
  "nbformat": 4,
  "nbformat_minor": 0,
  "metadata": {
    "colab": {
      "name": "test with iirnotch.ipynb",
      "provenance": [],
      "authorship_tag": "ABX9TyMExNfaQ577Mza0sX6PrHTe",
      "include_colab_link": true
    },
    "kernelspec": {
      "name": "python3",
      "display_name": "Python 3"
    },
    "language_info": {
      "name": "python"
    }
  },
  "cells": [
    {
      "cell_type": "markdown",
      "metadata": {
        "id": "view-in-github",
        "colab_type": "text"
      },
      "source": [
        "<a href=\"https://colab.research.google.com/github/bootstrap666/projeto_filtro_notch/blob/main/test_with_iirnotch.ipynb\" target=\"_parent\"><img src=\"https://colab.research.google.com/assets/colab-badge.svg\" alt=\"Open In Colab\"/></a>"
      ]
    },
    {
      "cell_type": "code",
      "execution_count": 14,
      "metadata": {
        "id": "41htU-IHP3k9"
      },
      "outputs": [],
      "source": [
        "from scipy import signal\n",
        "import numpy as np\n",
        "import matplotlib.pyplot as plt\n",
        "\n",
        "f0 = 60\n",
        "B = 6 \n",
        "fs = 400\n",
        "alpha = (1 - np.tan(np.pi*B/fs))/(1 + np.tan(np.pi*B/fs))\n",
        "beta = np.cos(2*np.pi*f0/fs)\n",
        "\n",
        "b = [0.5*(1+alpha),-beta*(1+alpha),0.5*(1+alpha)]\n",
        "a = [ 1, -beta*(1+alpha), alpha]\n",
        "\n",
        "\n",
        "b1, a1 = signal.iirnotch(f0,L,fs)"
      ]
    },
    {
      "cell_type": "code",
      "source": [
        "freq, h = signal.freqz(b,a)\n",
        "freq1, h1 = signal.freqz(b1,a1)\n",
        "\n",
        "plt.plot(freq/(2*np.pi)*fs,20*np.log10(abs(h)))\n",
        "plt.plot(freq1/(2*np.pi)*fs,20*np.log10(abs(h1)),'r')\n",
        "plt.fill([0, f0-B/2,  f0-B/2,  0], [-3, -3, -600, -600], '0.5', lw=0) \n",
        "plt.fill([160, f0+B/2,  f0+B/2,  160], [-3, -3, -600, -600], '0.5', lw=0)\n",
        "plt.ylim([-35, 1])"
      ],
      "metadata": {
        "colab": {
          "base_uri": "https://localhost:8080/",
          "height": 283
        },
        "id": "AlNz1DhcRi2G",
        "outputId": "c3f0f659-dc4e-4c8e-9a23-cc6f5af12731"
      },
      "execution_count": 16,
      "outputs": [
        {
          "output_type": "execute_result",
          "data": {
            "text/plain": [
              "(-35.0, 1.0)"
            ]
          },
          "metadata": {},
          "execution_count": 16
        },
        {
          "output_type": "display_data",
          "data": {
            "image/png": "[encoded data removed]",
            "text/plain": [
              "<Figure size 432x288 with 1 Axes>"
            ]
          },
          "metadata": {
            "needs_background": "light"
          }
        }
      ]
    }
  ]
}